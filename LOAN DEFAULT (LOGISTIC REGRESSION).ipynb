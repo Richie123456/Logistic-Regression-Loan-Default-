{
 "cells": [
  {
   "cell_type": "code",
   "execution_count": 1,
   "metadata": {},
   "outputs": [],
   "source": [
    "import pandas as pd\n",
    "import numpy as np\n",
    "from sklearn.linear_model import LogisticRegression\n",
    "from sklearn.model_selection import train_test_split"
   ]
  },
  {
   "cell_type": "markdown",
   "metadata": {},
   "source": [
    "# Data Exploration: We First Explore the Dataset "
   ]
  },
  {
   "cell_type": "code",
   "execution_count": 2,
   "metadata": {},
   "outputs": [
    {
     "name": "stderr",
     "output_type": "stream",
     "text": [
      "C:\\ProgramData\\Anaconda3\\lib\\site-packages\\IPython\\core\\interactiveshell.py:3063: DtypeWarning: Columns (19,55) have mixed types.Specify dtype option on import or set low_memory=False.\n",
      "  interactivity=interactivity, compiler=compiler, result=result)\n"
     ]
    }
   ],
   "source": [
    "# We start by first importing the dataset to be used\n",
    "df = pd.read_csv (\"loan small.csv\")"
   ]
  },
  {
   "cell_type": "code",
   "execution_count": 5,
   "metadata": {
    "scrolled": true
   },
   "outputs": [
    {
     "data": {
      "text/plain": [
       "(887379, 74)"
      ]
     },
     "execution_count": 5,
     "metadata": {},
     "output_type": "execute_result"
    }
   ],
   "source": [
    "# We identify the total number of rows and columns.\n",
    "df.shape"
   ]
  },
  {
   "cell_type": "code",
   "execution_count": 6,
   "metadata": {
    "scrolled": true
   },
   "outputs": [
    {
     "name": "stdout",
     "output_type": "stream",
     "text": [
      "<class 'pandas.core.frame.DataFrame'>\n",
      "RangeIndex: 887379 entries, 0 to 887378\n",
      "Data columns (total 74 columns):\n",
      " #   Column                       Non-Null Count   Dtype  \n",
      "---  ------                       --------------   -----  \n",
      " 0   id                           887379 non-null  int64  \n",
      " 1   member_id                    887379 non-null  int64  \n",
      " 2   loan_amnt                    887379 non-null  float64\n",
      " 3   funded_amnt                  887379 non-null  float64\n",
      " 4   funded_amnt_inv              887379 non-null  float64\n",
      " 5   term                         887379 non-null  object \n",
      " 6   int_rate                     887379 non-null  float64\n",
      " 7   installment                  887379 non-null  float64\n",
      " 8   grade                        887379 non-null  object \n",
      " 9   sub_grade                    887379 non-null  object \n",
      " 10  emp_title                    835917 non-null  object \n",
      " 11  emp_length                   842554 non-null  object \n",
      " 12  home_ownership               887379 non-null  object \n",
      " 13  annual_inc                   887375 non-null  float64\n",
      " 14  verification_status          887379 non-null  object \n",
      " 15  issue_d                      887379 non-null  object \n",
      " 16  loan_status                  887379 non-null  object \n",
      " 17  pymnt_plan                   887379 non-null  object \n",
      " 18  url                          887379 non-null  object \n",
      " 19  desc                         126028 non-null  object \n",
      " 20  purpose                      887379 non-null  object \n",
      " 21  title                        887227 non-null  object \n",
      " 22  zip_code                     887379 non-null  object \n",
      " 23  addr_state                   887379 non-null  object \n",
      " 24  dti                          887379 non-null  float64\n",
      " 25  delinq_2yrs                  887350 non-null  float64\n",
      " 26  earliest_cr_line             887350 non-null  object \n",
      " 27  inq_last_6mths               887350 non-null  float64\n",
      " 28  mths_since_last_delinq       433067 non-null  float64\n",
      " 29  mths_since_last_record       137053 non-null  float64\n",
      " 30  open_acc                     887350 non-null  float64\n",
      " 31  pub_rec                      887350 non-null  float64\n",
      " 32  revol_bal                    887379 non-null  float64\n",
      " 33  revol_util                   886877 non-null  float64\n",
      " 34  total_acc                    887350 non-null  float64\n",
      " 35  initial_list_status          887379 non-null  object \n",
      " 36  out_prncp                    887379 non-null  float64\n",
      " 37  out_prncp_inv                887379 non-null  float64\n",
      " 38  total_pymnt                  887379 non-null  float64\n",
      " 39  total_pymnt_inv              887379 non-null  float64\n",
      " 40  total_rec_prncp              887379 non-null  float64\n",
      " 41  total_rec_int                887379 non-null  float64\n",
      " 42  total_rec_late_fee           887379 non-null  float64\n",
      " 43  recoveries                   887379 non-null  float64\n",
      " 44  collection_recovery_fee      887379 non-null  float64\n",
      " 45  last_pymnt_d                 869720 non-null  object \n",
      " 46  last_pymnt_amnt              887379 non-null  float64\n",
      " 47  next_pymnt_d                 634408 non-null  object \n",
      " 48  last_credit_pull_d           887326 non-null  object \n",
      " 49  collections_12_mths_ex_med   887234 non-null  float64\n",
      " 50  mths_since_last_major_derog  221703 non-null  float64\n",
      " 51  policy_code                  887379 non-null  float64\n",
      " 52  application_type             887379 non-null  object \n",
      " 53  annual_inc_joint             511 non-null     float64\n",
      " 54  dti_joint                    509 non-null     float64\n",
      " 55  verification_status_joint    511 non-null     object \n",
      " 56  acc_now_delinq               887350 non-null  float64\n",
      " 57  tot_coll_amt                 817103 non-null  float64\n",
      " 58  tot_cur_bal                  817103 non-null  float64\n",
      " 59  open_acc_6m                  21372 non-null   float64\n",
      " 60  open_il_6m                   21372 non-null   float64\n",
      " 61  open_il_12m                  21372 non-null   float64\n",
      " 62  open_il_24m                  21372 non-null   float64\n",
      " 63  mths_since_rcnt_il           20810 non-null   float64\n",
      " 64  total_bal_il                 21372 non-null   float64\n",
      " 65  il_util                      18617 non-null   float64\n",
      " 66  open_rv_12m                  21372 non-null   float64\n",
      " 67  open_rv_24m                  21372 non-null   float64\n",
      " 68  max_bal_bc                   21372 non-null   float64\n",
      " 69  all_util                     21372 non-null   float64\n",
      " 70  total_rev_hi_lim             817103 non-null  float64\n",
      " 71  inq_fi                       21372 non-null   float64\n",
      " 72  total_cu_tl                  21372 non-null   float64\n",
      " 73  inq_last_12m                 21372 non-null   float64\n",
      "dtypes: float64(49), int64(2), object(23)\n",
      "memory usage: 501.0+ MB\n"
     ]
    }
   ],
   "source": [
    "#We check out the properties of the dataset\n",
    "df.info()"
   ]
  },
  {
   "cell_type": "code",
   "execution_count": 7,
   "metadata": {},
   "outputs": [
    {
     "data": {
      "text/plain": [
       "<matplotlib.axes._subplots.AxesSubplot at 0x1f50935a848>"
      ]
     },
     "execution_count": 7,
     "metadata": {},
     "output_type": "execute_result"
    },
    {
     "data": {
      "image/png": "[encoded data removed]",
      "text/plain": [
       "<Figure size 432x288 with 1 Axes>"
      ]
     },
     "metadata": {
      "needs_background": "light"
     },
     "output_type": "display_data"
    }
   ],
   "source": [
    "#Using seaborn to visualize the ratio of each category withing the dependent variable\n",
    "import seaborn as sns\n",
    "sns.countplot(df['loan_status'])"
   ]
  },
  {
   "cell_type": "code",
   "execution_count": 5,
   "metadata": {},
   "outputs": [
    {
     "data": {
      "text/html": [
       "<div>\n",
       "<style scoped>\n",
       "    .dataframe tbody tr th:only-of-type {\n",
       "        vertical-align: middle;\n",
       "    }\n",
       "\n",
       "    .dataframe tbody tr th {\n",
       "        vertical-align: top;\n",
       "    }\n",
       "\n",
       "    .dataframe thead th {\n",
       "        text-align: right;\n",
       "    }\n",
       "</style>\n",
       "<table border=\"1\" class=\"dataframe\">\n",
       "  <thead>\n",
       "    <tr style=\"text-align: right;\">\n",
       "      <th></th>\n",
       "      <th>Count</th>\n",
       "      <th>Percent</th>\n",
       "    </tr>\n",
       "  </thead>\n",
       "  <tbody>\n",
       "    <tr>\n",
       "      <th>emp_title</th>\n",
       "      <td>51462</td>\n",
       "      <td>5.799326</td>\n",
       "    </tr>\n",
       "    <tr>\n",
       "      <th>emp_length</th>\n",
       "      <td>44825</td>\n",
       "      <td>5.051393</td>\n",
       "    </tr>\n",
       "    <tr>\n",
       "      <th>annual_inc</th>\n",
       "      <td>4</td>\n",
       "      <td>0.000451</td>\n",
       "    </tr>\n",
       "    <tr>\n",
       "      <th>desc</th>\n",
       "      <td>761351</td>\n",
       "      <td>85.797726</td>\n",
       "    </tr>\n",
       "    <tr>\n",
       "      <th>title</th>\n",
       "      <td>152</td>\n",
       "      <td>0.017129</td>\n",
       "    </tr>\n",
       "    <tr>\n",
       "      <th>delinq_2yrs</th>\n",
       "      <td>29</td>\n",
       "      <td>0.003268</td>\n",
       "    </tr>\n",
       "    <tr>\n",
       "      <th>earliest_cr_line</th>\n",
       "      <td>29</td>\n",
       "      <td>0.003268</td>\n",
       "    </tr>\n",
       "    <tr>\n",
       "      <th>inq_last_6mths</th>\n",
       "      <td>29</td>\n",
       "      <td>0.003268</td>\n",
       "    </tr>\n",
       "    <tr>\n",
       "      <th>mths_since_last_delinq</th>\n",
       "      <td>454312</td>\n",
       "      <td>51.197065</td>\n",
       "    </tr>\n",
       "    <tr>\n",
       "      <th>mths_since_last_record</th>\n",
       "      <td>750326</td>\n",
       "      <td>84.555303</td>\n",
       "    </tr>\n",
       "    <tr>\n",
       "      <th>open_acc</th>\n",
       "      <td>29</td>\n",
       "      <td>0.003268</td>\n",
       "    </tr>\n",
       "    <tr>\n",
       "      <th>pub_rec</th>\n",
       "      <td>29</td>\n",
       "      <td>0.003268</td>\n",
       "    </tr>\n",
       "    <tr>\n",
       "      <th>revol_util</th>\n",
       "      <td>502</td>\n",
       "      <td>0.056571</td>\n",
       "    </tr>\n",
       "    <tr>\n",
       "      <th>total_acc</th>\n",
       "      <td>29</td>\n",
       "      <td>0.003268</td>\n",
       "    </tr>\n",
       "    <tr>\n",
       "      <th>last_pymnt_d</th>\n",
       "      <td>17659</td>\n",
       "      <td>1.990018</td>\n",
       "    </tr>\n",
       "    <tr>\n",
       "      <th>next_pymnt_d</th>\n",
       "      <td>252971</td>\n",
       "      <td>28.507661</td>\n",
       "    </tr>\n",
       "    <tr>\n",
       "      <th>last_credit_pull_d</th>\n",
       "      <td>53</td>\n",
       "      <td>0.005973</td>\n",
       "    </tr>\n",
       "    <tr>\n",
       "      <th>collections_12_mths_ex_med</th>\n",
       "      <td>145</td>\n",
       "      <td>0.016340</td>\n",
       "    </tr>\n",
       "    <tr>\n",
       "      <th>mths_since_last_major_derog</th>\n",
       "      <td>665676</td>\n",
       "      <td>75.015974</td>\n",
       "    </tr>\n",
       "    <tr>\n",
       "      <th>annual_inc_joint</th>\n",
       "      <td>886868</td>\n",
       "      <td>99.942415</td>\n",
       "    </tr>\n",
       "    <tr>\n",
       "      <th>dti_joint</th>\n",
       "      <td>886870</td>\n",
       "      <td>99.942640</td>\n",
       "    </tr>\n",
       "    <tr>\n",
       "      <th>verification_status_joint</th>\n",
       "      <td>886868</td>\n",
       "      <td>99.942415</td>\n",
       "    </tr>\n",
       "    <tr>\n",
       "      <th>acc_now_delinq</th>\n",
       "      <td>29</td>\n",
       "      <td>0.003268</td>\n",
       "    </tr>\n",
       "    <tr>\n",
       "      <th>tot_coll_amt</th>\n",
       "      <td>70276</td>\n",
       "      <td>7.919502</td>\n",
       "    </tr>\n",
       "    <tr>\n",
       "      <th>tot_cur_bal</th>\n",
       "      <td>70276</td>\n",
       "      <td>7.919502</td>\n",
       "    </tr>\n",
       "    <tr>\n",
       "      <th>open_acc_6m</th>\n",
       "      <td>866007</td>\n",
       "      <td>97.591559</td>\n",
       "    </tr>\n",
       "    <tr>\n",
       "      <th>open_il_6m</th>\n",
       "      <td>866007</td>\n",
       "      <td>97.591559</td>\n",
       "    </tr>\n",
       "    <tr>\n",
       "      <th>open_il_12m</th>\n",
       "      <td>866007</td>\n",
       "      <td>97.591559</td>\n",
       "    </tr>\n",
       "    <tr>\n",
       "      <th>open_il_24m</th>\n",
       "      <td>866007</td>\n",
       "      <td>97.591559</td>\n",
       "    </tr>\n",
       "    <tr>\n",
       "      <th>mths_since_rcnt_il</th>\n",
       "      <td>866569</td>\n",
       "      <td>97.654892</td>\n",
       "    </tr>\n",
       "    <tr>\n",
       "      <th>total_bal_il</th>\n",
       "      <td>866007</td>\n",
       "      <td>97.591559</td>\n",
       "    </tr>\n",
       "    <tr>\n",
       "      <th>il_util</th>\n",
       "      <td>868762</td>\n",
       "      <td>97.902024</td>\n",
       "    </tr>\n",
       "    <tr>\n",
       "      <th>open_rv_12m</th>\n",
       "      <td>866007</td>\n",
       "      <td>97.591559</td>\n",
       "    </tr>\n",
       "    <tr>\n",
       "      <th>open_rv_24m</th>\n",
       "      <td>866007</td>\n",
       "      <td>97.591559</td>\n",
       "    </tr>\n",
       "    <tr>\n",
       "      <th>max_bal_bc</th>\n",
       "      <td>866007</td>\n",
       "      <td>97.591559</td>\n",
       "    </tr>\n",
       "    <tr>\n",
       "      <th>all_util</th>\n",
       "      <td>866007</td>\n",
       "      <td>97.591559</td>\n",
       "    </tr>\n",
       "    <tr>\n",
       "      <th>total_rev_hi_lim</th>\n",
       "      <td>70276</td>\n",
       "      <td>7.919502</td>\n",
       "    </tr>\n",
       "    <tr>\n",
       "      <th>inq_fi</th>\n",
       "      <td>866007</td>\n",
       "      <td>97.591559</td>\n",
       "    </tr>\n",
       "    <tr>\n",
       "      <th>total_cu_tl</th>\n",
       "      <td>866007</td>\n",
       "      <td>97.591559</td>\n",
       "    </tr>\n",
       "    <tr>\n",
       "      <th>inq_last_12m</th>\n",
       "      <td>866007</td>\n",
       "      <td>97.591559</td>\n",
       "    </tr>\n",
       "  </tbody>\n",
       "</table>\n",
       "</div>"
      ],
      "text/plain": [
       "                              Count    Percent\n",
       "emp_title                     51462   5.799326\n",
       "emp_length                    44825   5.051393\n",
       "annual_inc                        4   0.000451\n",
       "desc                         761351  85.797726\n",
       "title                           152   0.017129\n",
       "delinq_2yrs                      29   0.003268\n",
       "earliest_cr_line                 29   0.003268\n",
       "inq_last_6mths                   29   0.003268\n",
       "mths_since_last_delinq       454312  51.197065\n",
       "mths_since_last_record       750326  84.555303\n",
       "open_acc                         29   0.003268\n",
       "pub_rec                          29   0.003268\n",
       "revol_util                      502   0.056571\n",
       "total_acc                        29   0.003268\n",
       "last_pymnt_d                  17659   1.990018\n",
       "next_pymnt_d                 252971  28.507661\n",
       "last_credit_pull_d               53   0.005973\n",
       "collections_12_mths_ex_med      145   0.016340\n",
       "mths_since_last_major_derog  665676  75.015974\n",
       "annual_inc_joint             886868  99.942415\n",
       "dti_joint                    886870  99.942640\n",
       "verification_status_joint    886868  99.942415\n",
       "acc_now_delinq                   29   0.003268\n",
       "tot_coll_amt                  70276   7.919502\n",
       "tot_cur_bal                   70276   7.919502\n",
       "open_acc_6m                  866007  97.591559\n",
       "open_il_6m                   866007  97.591559\n",
       "open_il_12m                  866007  97.591559\n",
       "open_il_24m                  866007  97.591559\n",
       "mths_since_rcnt_il           866569  97.654892\n",
       "total_bal_il                 866007  97.591559\n",
       "il_util                      868762  97.902024\n",
       "open_rv_12m                  866007  97.591559\n",
       "open_rv_24m                  866007  97.591559\n",
       "max_bal_bc                   866007  97.591559\n",
       "all_util                     866007  97.591559\n",
       "total_rev_hi_lim              70276   7.919502\n",
       "inq_fi                       866007  97.591559\n",
       "total_cu_tl                  866007  97.591559\n",
       "inq_last_12m                 866007  97.591559"
      ]
     },
     "execution_count": 5,
     "metadata": {},
     "output_type": "execute_result"
    }
   ],
   "source": [
    "# We identify the count and percentage of missing values in the dataset.\n",
    "# The count function gives the total number of missing values in the dataset\n",
    "# The percentage function invloves multiplying the missing values divided by the total number of values by 100\n",
    "df_null = pd.DataFrame({'Count': df.isnull().sum(), 'Percent': 100*df.isnull().sum()/len(df)})\n",
    "\n",
    "#printing columns with null count more than 0\n",
    "df_null[df_null['Count'] > 0]"
   ]
  },
  {
   "cell_type": "code",
   "execution_count": null,
   "metadata": {},
   "outputs": [],
   "source": []
  },
  {
   "cell_type": "markdown",
   "metadata": {},
   "source": [
    "# Data Cleaning\n",
    "we will start by droping all coloumns which do not have 80% or more of data values present"
   ]
  },
  {
   "cell_type": "code",
   "execution_count": 8,
   "metadata": {
    "scrolled": true
   },
   "outputs": [
    {
     "data": {
      "text/plain": [
       "(887379, 52)"
      ]
     },
     "execution_count": 8,
     "metadata": {},
     "output_type": "execute_result"
    }
   ],
   "source": [
    "# We then move on to drop all features with missing values less than 80%\n",
    "df1 = df.dropna(axis=1, thresh=int(0.80*len(df)))\n",
    "df1.shape"
   ]
  },
  {
   "cell_type": "code",
   "execution_count": 9,
   "metadata": {},
   "outputs": [
    {
     "data": {
      "text/html": [
       "<div>\n",
       "<style scoped>\n",
       "    .dataframe tbody tr th:only-of-type {\n",
       "        vertical-align: middle;\n",
       "    }\n",
       "\n",
       "    .dataframe tbody tr th {\n",
       "        vertical-align: top;\n",
       "    }\n",
       "\n",
       "    .dataframe thead th {\n",
       "        text-align: right;\n",
       "    }\n",
       "</style>\n",
       "<table border=\"1\" class=\"dataframe\">\n",
       "  <thead>\n",
       "    <tr style=\"text-align: right;\">\n",
       "      <th></th>\n",
       "      <th>Count</th>\n",
       "      <th>Percent</th>\n",
       "    </tr>\n",
       "  </thead>\n",
       "  <tbody>\n",
       "    <tr>\n",
       "      <th>emp_title</th>\n",
       "      <td>51462</td>\n",
       "      <td>5.799326</td>\n",
       "    </tr>\n",
       "    <tr>\n",
       "      <th>emp_length</th>\n",
       "      <td>44825</td>\n",
       "      <td>5.051393</td>\n",
       "    </tr>\n",
       "    <tr>\n",
       "      <th>annual_inc</th>\n",
       "      <td>4</td>\n",
       "      <td>0.000451</td>\n",
       "    </tr>\n",
       "    <tr>\n",
       "      <th>title</th>\n",
       "      <td>152</td>\n",
       "      <td>0.017129</td>\n",
       "    </tr>\n",
       "    <tr>\n",
       "      <th>delinq_2yrs</th>\n",
       "      <td>29</td>\n",
       "      <td>0.003268</td>\n",
       "    </tr>\n",
       "    <tr>\n",
       "      <th>earliest_cr_line</th>\n",
       "      <td>29</td>\n",
       "      <td>0.003268</td>\n",
       "    </tr>\n",
       "    <tr>\n",
       "      <th>inq_last_6mths</th>\n",
       "      <td>29</td>\n",
       "      <td>0.003268</td>\n",
       "    </tr>\n",
       "    <tr>\n",
       "      <th>open_acc</th>\n",
       "      <td>29</td>\n",
       "      <td>0.003268</td>\n",
       "    </tr>\n",
       "    <tr>\n",
       "      <th>pub_rec</th>\n",
       "      <td>29</td>\n",
       "      <td>0.003268</td>\n",
       "    </tr>\n",
       "    <tr>\n",
       "      <th>revol_util</th>\n",
       "      <td>502</td>\n",
       "      <td>0.056571</td>\n",
       "    </tr>\n",
       "    <tr>\n",
       "      <th>total_acc</th>\n",
       "      <td>29</td>\n",
       "      <td>0.003268</td>\n",
       "    </tr>\n",
       "    <tr>\n",
       "      <th>last_pymnt_d</th>\n",
       "      <td>17659</td>\n",
       "      <td>1.990018</td>\n",
       "    </tr>\n",
       "    <tr>\n",
       "      <th>last_credit_pull_d</th>\n",
       "      <td>53</td>\n",
       "      <td>0.005973</td>\n",
       "    </tr>\n",
       "    <tr>\n",
       "      <th>collections_12_mths_ex_med</th>\n",
       "      <td>145</td>\n",
       "      <td>0.016340</td>\n",
       "    </tr>\n",
       "    <tr>\n",
       "      <th>acc_now_delinq</th>\n",
       "      <td>29</td>\n",
       "      <td>0.003268</td>\n",
       "    </tr>\n",
       "    <tr>\n",
       "      <th>tot_coll_amt</th>\n",
       "      <td>70276</td>\n",
       "      <td>7.919502</td>\n",
       "    </tr>\n",
       "    <tr>\n",
       "      <th>tot_cur_bal</th>\n",
       "      <td>70276</td>\n",
       "      <td>7.919502</td>\n",
       "    </tr>\n",
       "    <tr>\n",
       "      <th>total_rev_hi_lim</th>\n",
       "      <td>70276</td>\n",
       "      <td>7.919502</td>\n",
       "    </tr>\n",
       "  </tbody>\n",
       "</table>\n",
       "</div>"
      ],
      "text/plain": [
       "                            Count   Percent\n",
       "emp_title                   51462  5.799326\n",
       "emp_length                  44825  5.051393\n",
       "annual_inc                      4  0.000451\n",
       "title                         152  0.017129\n",
       "delinq_2yrs                    29  0.003268\n",
       "earliest_cr_line               29  0.003268\n",
       "inq_last_6mths                 29  0.003268\n",
       "open_acc                       29  0.003268\n",
       "pub_rec                        29  0.003268\n",
       "revol_util                    502  0.056571\n",
       "total_acc                      29  0.003268\n",
       "last_pymnt_d                17659  1.990018\n",
       "last_credit_pull_d             53  0.005973\n",
       "collections_12_mths_ex_med    145  0.016340\n",
       "acc_now_delinq                 29  0.003268\n",
       "tot_coll_amt                70276  7.919502\n",
       "tot_cur_bal                 70276  7.919502\n",
       "total_rev_hi_lim            70276  7.919502"
      ]
     },
     "execution_count": 9,
     "metadata": {},
     "output_type": "execute_result"
    }
   ],
   "source": [
    "# We identify the left over columns after taking out data with 80% or more missing values.\n",
    "df_null = pd.DataFrame({'Count': df1.isnull().sum(), 'Percent': 100*df1.isnull().sum()/len(df)})\n",
    "\n",
    "#printing columns with null count more than 0\n",
    "df_null[df_null['Count'] > 0]"
   ]
  },
  {
   "cell_type": "markdown",
   "metadata": {
    "scrolled": true
   },
   "source": [
    "## Feature Selection"
   ]
  },
  {
   "cell_type": "code",
   "execution_count": 10,
   "metadata": {
    "scrolled": true
   },
   "outputs": [
    {
     "name": "stdout",
     "output_type": "stream",
     "text": [
      "<class 'pandas.core.frame.DataFrame'>\n",
      "RangeIndex: 887379 entries, 0 to 887378\n",
      "Data columns (total 52 columns):\n",
      " #   Column                      Non-Null Count   Dtype  \n",
      "---  ------                      --------------   -----  \n",
      " 0   id                          887379 non-null  int64  \n",
      " 1   member_id                   887379 non-null  int64  \n",
      " 2   loan_amnt                   887379 non-null  float64\n",
      " 3   funded_amnt                 887379 non-null  float64\n",
      " 4   funded_amnt_inv             887379 non-null  float64\n",
      " 5   term                        887379 non-null  object \n",
      " 6   int_rate                    887379 non-null  float64\n",
      " 7   installment                 887379 non-null  float64\n",
      " 8   grade                       887379 non-null  object \n",
      " 9   sub_grade                   887379 non-null  object \n",
      " 10  emp_title                   835917 non-null  object \n",
      " 11  emp_length                  842554 non-null  object \n",
      " 12  home_ownership              887379 non-null  object \n",
      " 13  annual_inc                  887375 non-null  float64\n",
      " 14  verification_status         887379 non-null  object \n",
      " 15  issue_d                     887379 non-null  object \n",
      " 16  loan_status                 887379 non-null  object \n",
      " 17  pymnt_plan                  887379 non-null  object \n",
      " 18  url                         887379 non-null  object \n",
      " 19  purpose                     887379 non-null  object \n",
      " 20  title                       887227 non-null  object \n",
      " 21  zip_code                    887379 non-null  object \n",
      " 22  addr_state                  887379 non-null  object \n",
      " 23  dti                         887379 non-null  float64\n",
      " 24  delinq_2yrs                 887350 non-null  float64\n",
      " 25  earliest_cr_line            887350 non-null  object \n",
      " 26  inq_last_6mths              887350 non-null  float64\n",
      " 27  open_acc                    887350 non-null  float64\n",
      " 28  pub_rec                     887350 non-null  float64\n",
      " 29  revol_bal                   887379 non-null  float64\n",
      " 30  revol_util                  886877 non-null  float64\n",
      " 31  total_acc                   887350 non-null  float64\n",
      " 32  initial_list_status         887379 non-null  object \n",
      " 33  out_prncp                   887379 non-null  float64\n",
      " 34  out_prncp_inv               887379 non-null  float64\n",
      " 35  total_pymnt                 887379 non-null  float64\n",
      " 36  total_pymnt_inv             887379 non-null  float64\n",
      " 37  total_rec_prncp             887379 non-null  float64\n",
      " 38  total_rec_int               887379 non-null  float64\n",
      " 39  total_rec_late_fee          887379 non-null  float64\n",
      " 40  recoveries                  887379 non-null  float64\n",
      " 41  collection_recovery_fee     887379 non-null  float64\n",
      " 42  last_pymnt_d                869720 non-null  object \n",
      " 43  last_pymnt_amnt             887379 non-null  float64\n",
      " 44  last_credit_pull_d          887326 non-null  object \n",
      " 45  collections_12_mths_ex_med  887234 non-null  float64\n",
      " 46  policy_code                 887379 non-null  float64\n",
      " 47  application_type            887379 non-null  object \n",
      " 48  acc_now_delinq              887350 non-null  float64\n",
      " 49  tot_coll_amt                817103 non-null  float64\n",
      " 50  tot_cur_bal                 817103 non-null  float64\n",
      " 51  total_rev_hi_lim            817103 non-null  float64\n",
      "dtypes: float64(30), int64(2), object(20)\n",
      "memory usage: 352.0+ MB\n"
     ]
    }
   ],
   "source": [
    "df1.info()"
   ]
  },
  {
   "cell_type": "code",
   "execution_count": 13,
   "metadata": {
    "scrolled": true
   },
   "outputs": [
    {
     "data": {
      "text/plain": [
       "loan_amnt              float64\n",
       "term                    object\n",
       "int_rate               float64\n",
       "installment            float64\n",
       "emp_length              object\n",
       "home_ownership          object\n",
       "annual_inc             float64\n",
       "verification_status     object\n",
       "purpose                 object\n",
       "dti                    float64\n",
       "delinq_2yrs            float64\n",
       "loan_status             object\n",
       "dtype: object"
      ]
     },
     "execution_count": 13,
     "metadata": {},
     "output_type": "execute_result"
    }
   ],
   "source": [
    "#We select features relevant to our credit scoring model\n",
    "df2 = df1.filter(['loan_amnt','term','int_rate','installment','emp_length','home_ownership',\n",
    "                    'annual_inc','verification_status','purpose','dti','delinq_2yrs','loan_status'])\n",
    "df2.dtypes"
   ]
  },
  {
   "cell_type": "code",
   "execution_count": 14,
   "metadata": {},
   "outputs": [
    {
     "data": {
      "text/plain": [
       "(887379, 12)"
      ]
     },
     "execution_count": 14,
     "metadata": {},
     "output_type": "execute_result"
    }
   ],
   "source": [
    "df2.shape"
   ]
  },
  {
   "cell_type": "markdown",
   "metadata": {},
   "source": [
    "# ENCODING THE DEPENDENT VARIABLE\n",
    "Treating the data as a classifications problem\n",
    "We convert the loan status into a variable with 2 discrete numerical classes\n",
    "Fullypaid = 1 and default = 0"
   ]
  },
  {
   "cell_type": "code",
   "execution_count": 15,
   "metadata": {
    "scrolled": false
   },
   "outputs": [
    {
     "name": "stdout",
     "output_type": "stream",
     "text": [
      "Current                                                601779\n",
      "Fully Paid                                             207723\n",
      "Charged Off                                             45248\n",
      "Late (31-120 days)                                      11591\n",
      "Issued                                                   8460\n",
      "In Grace Period                                          6253\n",
      "Late (16-30 days)                                        2357\n",
      "Does not meet the credit policy. Status:Fully Paid       1988\n",
      "Default                                                  1219\n",
      "Does not meet the credit policy. Status:Charged Off       761\n",
      "Name: loan_status, dtype: int64\n"
     ]
    }
   ],
   "source": [
    "# Identify the number of section divisions in the target variable.\n",
    "print(df2[\"loan_status\"].value_counts())"
   ]
  },
  {
   "cell_type": "code",
   "execution_count": 16,
   "metadata": {},
   "outputs": [],
   "source": [
    "#We drop all other categories within loan status leaving just fully paid,charged off and default\n",
    "df2 = df2[df2.loan_status != 'Current']\n",
    "df2 = df2[df2.loan_status != 'In Grace Period']\n",
    "df2 = df2[df2.loan_status != 'Late (16-30 days)']\n",
    "df2 = df2[df2.loan_status != 'Late (31-120 days)']\n",
    "df2 = df2[df2.loan_status != 'Does not meet the credit policy. Status:Fully Paid']\n",
    "df2 = df2[df2.loan_status != 'Does not meet the credit policy. Status:Charged Off']\n",
    "df2 = df2[df2.loan_status != 'Issued']"
   ]
  },
  {
   "cell_type": "code",
   "execution_count": 17,
   "metadata": {},
   "outputs": [
    {
     "data": {
      "text/plain": [
       "Fully Paid    207723\n",
       "Default        46467\n",
       "Name: loan_status, dtype: int64"
      ]
     },
     "execution_count": 17,
     "metadata": {},
     "output_type": "execute_result"
    }
   ],
   "source": [
    "#We merge default and charged off loans\n",
    "df2['loan_status'] = df2['loan_status'].replace({'Charged Off':'Default'})\n",
    "df2['loan_status'].value_counts()"
   ]
  },
  {
   "cell_type": "markdown",
   "metadata": {},
   "source": [
    "# Dividing the the Dependent Varaiable into two discrete classes\n",
    "using the Label Encoder"
   ]
  },
  {
   "cell_type": "code",
   "execution_count": 18,
   "metadata": {},
   "outputs": [],
   "source": [
    "from sklearn.preprocessing import LabelEncoder"
   ]
  },
  {
   "cell_type": "code",
   "execution_count": 19,
   "metadata": {
    "scrolled": true
   },
   "outputs": [],
   "source": [
    "# First assign the LabelEncoder to a variable\n",
    "le = LabelEncoder()\n",
    "# Secondly i assigned the encoded column to the variable called label\n",
    "label = le.fit_transform(df2[\"loan_status\"])"
   ]
  },
  {
   "cell_type": "code",
   "execution_count": 20,
   "metadata": {},
   "outputs": [],
   "source": [
    "df2 = df2.drop(\"loan_status\",axis = True)\n",
    "# the encoded label is now added to the table as the new column with the same name loan_status\n",
    "df2[\"loan_status\"] = label"
   ]
  },
  {
   "cell_type": "code",
   "execution_count": 21,
   "metadata": {
    "scrolled": true
   },
   "outputs": [
    {
     "name": "stdout",
     "output_type": "stream",
     "text": [
      "1    207723\n",
      "0     46467\n",
      "Name: loan_status, dtype: int64\n"
     ]
    }
   ],
   "source": [
    "#Encoding and dividing the target class into two discrete variables\n",
    "print(df2[\"loan_status\"].value_counts())"
   ]
  },
  {
   "cell_type": "code",
   "execution_count": 22,
   "metadata": {
    "scrolled": false
   },
   "outputs": [
    {
     "name": "stdout",
     "output_type": "stream",
     "text": [
      "<class 'pandas.core.frame.DataFrame'>\n",
      "Int64Index: 254190 entries, 0 to 887371\n",
      "Data columns (total 12 columns):\n",
      " #   Column               Non-Null Count   Dtype  \n",
      "---  ------               --------------   -----  \n",
      " 0   loan_amnt            254190 non-null  float64\n",
      " 1   term                 254190 non-null  object \n",
      " 2   int_rate             254190 non-null  float64\n",
      " 3   installment          254190 non-null  float64\n",
      " 4   emp_length           244222 non-null  object \n",
      " 5   home_ownership       254190 non-null  object \n",
      " 6   annual_inc           254190 non-null  float64\n",
      " 7   verification_status  254190 non-null  object \n",
      " 8   purpose              254190 non-null  object \n",
      " 9   dti                  254190 non-null  float64\n",
      " 10  delinq_2yrs          254190 non-null  float64\n",
      " 11  loan_status          254190 non-null  int32  \n",
      "dtypes: float64(6), int32(1), object(5)\n",
      "memory usage: 24.2+ MB\n"
     ]
    }
   ],
   "source": [
    "df2.info()"
   ]
  },
  {
   "cell_type": "markdown",
   "metadata": {},
   "source": [
    "# ENCODING THE INDEPENDENT VARIABLES"
   ]
  },
  {
   "cell_type": "code",
   "execution_count": 23,
   "metadata": {},
   "outputs": [
    {
     "name": "stdout",
     "output_type": "stream",
     "text": [
      "Feature 'term'has 2 unique categories\n",
      "Feature 'emp_length'has 12 unique categories\n",
      "Feature 'home_ownership'has 6 unique categories\n",
      "Feature 'verification_status'has 3 unique categories\n",
      "Feature 'purpose'has 14 unique categories\n"
     ]
    }
   ],
   "source": [
    "# We identify the number of unique categories for each object\n",
    "for col_name in df2.columns:\n",
    "    if df2[col_name].dtypes == 'object':\n",
    "        unique_cat = len (df2[col_name].unique())\n",
    "        print(\"Feature '{col_name}'has {unique_cat} unique categories\".format(col_name=col_name, unique_cat=unique_cat))"
   ]
  },
  {
   "cell_type": "code",
   "execution_count": 24,
   "metadata": {},
   "outputs": [],
   "source": [
    "# Using one hot encoding or get dummies approach to encoding the categorical features\n",
    "df_term = pd.get_dummies(df2['term'])\n",
    "df_emplength = pd.get_dummies(df2['emp_length'])\n",
    "df_homeownership = pd.get_dummies(df2['home_ownership'])\n",
    "df_verfication = pd.get_dummies (df2['verification_status'])\n",
    "df_purpose = pd.get_dummies (df2['purpose'])\n",
    "\n"
   ]
  },
  {
   "cell_type": "code",
   "execution_count": 25,
   "metadata": {},
   "outputs": [],
   "source": [
    "#Merge converted data with the rest by using Concatenation  \n",
    "df_concat = pd.concat([df2, df_term, df_emplength,df_homeownership,df_verfication,df_purpose], axis=1)\n"
   ]
  },
  {
   "cell_type": "code",
   "execution_count": 26,
   "metadata": {},
   "outputs": [
    {
     "name": "stdout",
     "output_type": "stream",
     "text": [
      "<class 'pandas.core.frame.DataFrame'>\n",
      "Int64Index: 254190 entries, 0 to 887371\n",
      "Data columns (total 48 columns):\n",
      " #   Column               Non-Null Count   Dtype  \n",
      "---  ------               --------------   -----  \n",
      " 0   loan_amnt            254190 non-null  float64\n",
      " 1   term                 254190 non-null  object \n",
      " 2   int_rate             254190 non-null  float64\n",
      " 3   installment          254190 non-null  float64\n",
      " 4   emp_length           244222 non-null  object \n",
      " 5   home_ownership       254190 non-null  object \n",
      " 6   annual_inc           254190 non-null  float64\n",
      " 7   verification_status  254190 non-null  object \n",
      " 8   purpose              254190 non-null  object \n",
      " 9   dti                  254190 non-null  float64\n",
      " 10  delinq_2yrs          254190 non-null  float64\n",
      " 11  loan_status          254190 non-null  int32  \n",
      " 12   36 months           254190 non-null  uint8  \n",
      " 13   60 months           254190 non-null  uint8  \n",
      " 14  1 year               254190 non-null  uint8  \n",
      " 15  10+ years            254190 non-null  uint8  \n",
      " 16  2 years              254190 non-null  uint8  \n",
      " 17  3 years              254190 non-null  uint8  \n",
      " 18  4 years              254190 non-null  uint8  \n",
      " 19  5 years              254190 non-null  uint8  \n",
      " 20  6 years              254190 non-null  uint8  \n",
      " 21  7 years              254190 non-null  uint8  \n",
      " 22  8 years              254190 non-null  uint8  \n",
      " 23  9 years              254190 non-null  uint8  \n",
      " 24  < 1 year             254190 non-null  uint8  \n",
      " 25  ANY                  254190 non-null  uint8  \n",
      " 26  MORTGAGE             254190 non-null  uint8  \n",
      " 27  NONE                 254190 non-null  uint8  \n",
      " 28  OTHER                254190 non-null  uint8  \n",
      " 29  OWN                  254190 non-null  uint8  \n",
      " 30  RENT                 254190 non-null  uint8  \n",
      " 31  Not Verified         254190 non-null  uint8  \n",
      " 32  Source Verified      254190 non-null  uint8  \n",
      " 33  Verified             254190 non-null  uint8  \n",
      " 34  car                  254190 non-null  uint8  \n",
      " 35  credit_card          254190 non-null  uint8  \n",
      " 36  debt_consolidation   254190 non-null  uint8  \n",
      " 37  educational          254190 non-null  uint8  \n",
      " 38  home_improvement     254190 non-null  uint8  \n",
      " 39  house                254190 non-null  uint8  \n",
      " 40  major_purchase       254190 non-null  uint8  \n",
      " 41  medical              254190 non-null  uint8  \n",
      " 42  moving               254190 non-null  uint8  \n",
      " 43  other                254190 non-null  uint8  \n",
      " 44  renewable_energy     254190 non-null  uint8  \n",
      " 45  small_business       254190 non-null  uint8  \n",
      " 46  vacation             254190 non-null  uint8  \n",
      " 47  wedding              254190 non-null  uint8  \n",
      "dtypes: float64(6), int32(1), object(5), uint8(36)\n",
      "memory usage: 33.0+ MB\n"
     ]
    }
   ],
   "source": [
    "df_concat.info()"
   ]
  },
  {
   "cell_type": "code",
   "execution_count": 27,
   "metadata": {
    "scrolled": true
   },
   "outputs": [
    {
     "data": {
      "text/html": [
       "<div>\n",
       "<style scoped>\n",
       "    .dataframe tbody tr th:only-of-type {\n",
       "        vertical-align: middle;\n",
       "    }\n",
       "\n",
       "    .dataframe tbody tr th {\n",
       "        vertical-align: top;\n",
       "    }\n",
       "\n",
       "    .dataframe thead th {\n",
       "        text-align: right;\n",
       "    }\n",
       "</style>\n",
       "<table border=\"1\" class=\"dataframe\">\n",
       "  <thead>\n",
       "    <tr style=\"text-align: right;\">\n",
       "      <th></th>\n",
       "      <th>loan_amnt</th>\n",
       "      <th>int_rate</th>\n",
       "      <th>installment</th>\n",
       "      <th>annual_inc</th>\n",
       "      <th>dti</th>\n",
       "      <th>delinq_2yrs</th>\n",
       "      <th>loan_status</th>\n",
       "      <th>36 months</th>\n",
       "      <th>60 months</th>\n",
       "      <th>1 year</th>\n",
       "      <th>...</th>\n",
       "      <th>home_improvement</th>\n",
       "      <th>house</th>\n",
       "      <th>major_purchase</th>\n",
       "      <th>medical</th>\n",
       "      <th>moving</th>\n",
       "      <th>other</th>\n",
       "      <th>renewable_energy</th>\n",
       "      <th>small_business</th>\n",
       "      <th>vacation</th>\n",
       "      <th>wedding</th>\n",
       "    </tr>\n",
       "  </thead>\n",
       "  <tbody>\n",
       "    <tr>\n",
       "      <th>0</th>\n",
       "      <td>5000.0</td>\n",
       "      <td>10.65</td>\n",
       "      <td>162.87</td>\n",
       "      <td>24000.0</td>\n",
       "      <td>27.65</td>\n",
       "      <td>0.0</td>\n",
       "      <td>1</td>\n",
       "      <td>1</td>\n",
       "      <td>0</td>\n",
       "      <td>0</td>\n",
       "      <td>...</td>\n",
       "      <td>0</td>\n",
       "      <td>0</td>\n",
       "      <td>0</td>\n",
       "      <td>0</td>\n",
       "      <td>0</td>\n",
       "      <td>0</td>\n",
       "      <td>0</td>\n",
       "      <td>0</td>\n",
       "      <td>0</td>\n",
       "      <td>0</td>\n",
       "    </tr>\n",
       "    <tr>\n",
       "      <th>1</th>\n",
       "      <td>2500.0</td>\n",
       "      <td>15.27</td>\n",
       "      <td>59.83</td>\n",
       "      <td>30000.0</td>\n",
       "      <td>1.00</td>\n",
       "      <td>0.0</td>\n",
       "      <td>0</td>\n",
       "      <td>0</td>\n",
       "      <td>1</td>\n",
       "      <td>0</td>\n",
       "      <td>...</td>\n",
       "      <td>0</td>\n",
       "      <td>0</td>\n",
       "      <td>0</td>\n",
       "      <td>0</td>\n",
       "      <td>0</td>\n",
       "      <td>0</td>\n",
       "      <td>0</td>\n",
       "      <td>0</td>\n",
       "      <td>0</td>\n",
       "      <td>0</td>\n",
       "    </tr>\n",
       "    <tr>\n",
       "      <th>2</th>\n",
       "      <td>2400.0</td>\n",
       "      <td>15.96</td>\n",
       "      <td>84.33</td>\n",
       "      <td>12252.0</td>\n",
       "      <td>8.72</td>\n",
       "      <td>0.0</td>\n",
       "      <td>1</td>\n",
       "      <td>1</td>\n",
       "      <td>0</td>\n",
       "      <td>0</td>\n",
       "      <td>...</td>\n",
       "      <td>0</td>\n",
       "      <td>0</td>\n",
       "      <td>0</td>\n",
       "      <td>0</td>\n",
       "      <td>0</td>\n",
       "      <td>0</td>\n",
       "      <td>0</td>\n",
       "      <td>1</td>\n",
       "      <td>0</td>\n",
       "      <td>0</td>\n",
       "    </tr>\n",
       "    <tr>\n",
       "      <th>3</th>\n",
       "      <td>10000.0</td>\n",
       "      <td>13.49</td>\n",
       "      <td>339.31</td>\n",
       "      <td>49200.0</td>\n",
       "      <td>20.00</td>\n",
       "      <td>0.0</td>\n",
       "      <td>1</td>\n",
       "      <td>1</td>\n",
       "      <td>0</td>\n",
       "      <td>0</td>\n",
       "      <td>...</td>\n",
       "      <td>0</td>\n",
       "      <td>0</td>\n",
       "      <td>0</td>\n",
       "      <td>0</td>\n",
       "      <td>0</td>\n",
       "      <td>1</td>\n",
       "      <td>0</td>\n",
       "      <td>0</td>\n",
       "      <td>0</td>\n",
       "      <td>0</td>\n",
       "    </tr>\n",
       "    <tr>\n",
       "      <th>5</th>\n",
       "      <td>5000.0</td>\n",
       "      <td>7.90</td>\n",
       "      <td>156.46</td>\n",
       "      <td>36000.0</td>\n",
       "      <td>11.20</td>\n",
       "      <td>0.0</td>\n",
       "      <td>1</td>\n",
       "      <td>1</td>\n",
       "      <td>0</td>\n",
       "      <td>0</td>\n",
       "      <td>...</td>\n",
       "      <td>0</td>\n",
       "      <td>0</td>\n",
       "      <td>0</td>\n",
       "      <td>0</td>\n",
       "      <td>0</td>\n",
       "      <td>0</td>\n",
       "      <td>0</td>\n",
       "      <td>0</td>\n",
       "      <td>0</td>\n",
       "      <td>1</td>\n",
       "    </tr>\n",
       "    <tr>\n",
       "      <th>...</th>\n",
       "      <td>...</td>\n",
       "      <td>...</td>\n",
       "      <td>...</td>\n",
       "      <td>...</td>\n",
       "      <td>...</td>\n",
       "      <td>...</td>\n",
       "      <td>...</td>\n",
       "      <td>...</td>\n",
       "      <td>...</td>\n",
       "      <td>...</td>\n",
       "      <td>...</td>\n",
       "      <td>...</td>\n",
       "      <td>...</td>\n",
       "      <td>...</td>\n",
       "      <td>...</td>\n",
       "      <td>...</td>\n",
       "      <td>...</td>\n",
       "      <td>...</td>\n",
       "      <td>...</td>\n",
       "      <td>...</td>\n",
       "      <td>...</td>\n",
       "    </tr>\n",
       "    <tr>\n",
       "      <th>887351</th>\n",
       "      <td>4200.0</td>\n",
       "      <td>15.99</td>\n",
       "      <td>147.64</td>\n",
       "      <td>48000.0</td>\n",
       "      <td>36.93</td>\n",
       "      <td>0.0</td>\n",
       "      <td>0</td>\n",
       "      <td>1</td>\n",
       "      <td>0</td>\n",
       "      <td>0</td>\n",
       "      <td>...</td>\n",
       "      <td>0</td>\n",
       "      <td>0</td>\n",
       "      <td>0</td>\n",
       "      <td>1</td>\n",
       "      <td>0</td>\n",
       "      <td>0</td>\n",
       "      <td>0</td>\n",
       "      <td>0</td>\n",
       "      <td>0</td>\n",
       "      <td>0</td>\n",
       "    </tr>\n",
       "    <tr>\n",
       "      <th>887364</th>\n",
       "      <td>10775.0</td>\n",
       "      <td>6.03</td>\n",
       "      <td>327.95</td>\n",
       "      <td>54000.0</td>\n",
       "      <td>13.22</td>\n",
       "      <td>1.0</td>\n",
       "      <td>1</td>\n",
       "      <td>1</td>\n",
       "      <td>0</td>\n",
       "      <td>0</td>\n",
       "      <td>...</td>\n",
       "      <td>0</td>\n",
       "      <td>0</td>\n",
       "      <td>0</td>\n",
       "      <td>0</td>\n",
       "      <td>0</td>\n",
       "      <td>0</td>\n",
       "      <td>0</td>\n",
       "      <td>0</td>\n",
       "      <td>0</td>\n",
       "      <td>0</td>\n",
       "    </tr>\n",
       "    <tr>\n",
       "      <th>887366</th>\n",
       "      <td>6225.0</td>\n",
       "      <td>16.49</td>\n",
       "      <td>220.37</td>\n",
       "      <td>27000.0</td>\n",
       "      <td>18.58</td>\n",
       "      <td>0.0</td>\n",
       "      <td>1</td>\n",
       "      <td>1</td>\n",
       "      <td>0</td>\n",
       "      <td>0</td>\n",
       "      <td>...</td>\n",
       "      <td>0</td>\n",
       "      <td>0</td>\n",
       "      <td>0</td>\n",
       "      <td>0</td>\n",
       "      <td>0</td>\n",
       "      <td>0</td>\n",
       "      <td>0</td>\n",
       "      <td>0</td>\n",
       "      <td>0</td>\n",
       "      <td>0</td>\n",
       "    </tr>\n",
       "    <tr>\n",
       "      <th>887369</th>\n",
       "      <td>4000.0</td>\n",
       "      <td>8.67</td>\n",
       "      <td>126.59</td>\n",
       "      <td>50000.0</td>\n",
       "      <td>12.63</td>\n",
       "      <td>0.0</td>\n",
       "      <td>1</td>\n",
       "      <td>1</td>\n",
       "      <td>0</td>\n",
       "      <td>0</td>\n",
       "      <td>...</td>\n",
       "      <td>0</td>\n",
       "      <td>0</td>\n",
       "      <td>0</td>\n",
       "      <td>0</td>\n",
       "      <td>0</td>\n",
       "      <td>0</td>\n",
       "      <td>0</td>\n",
       "      <td>0</td>\n",
       "      <td>0</td>\n",
       "      <td>0</td>\n",
       "    </tr>\n",
       "    <tr>\n",
       "      <th>887371</th>\n",
       "      <td>10850.0</td>\n",
       "      <td>19.24</td>\n",
       "      <td>399.04</td>\n",
       "      <td>32000.0</td>\n",
       "      <td>29.44</td>\n",
       "      <td>0.0</td>\n",
       "      <td>0</td>\n",
       "      <td>1</td>\n",
       "      <td>0</td>\n",
       "      <td>0</td>\n",
       "      <td>...</td>\n",
       "      <td>0</td>\n",
       "      <td>0</td>\n",
       "      <td>0</td>\n",
       "      <td>0</td>\n",
       "      <td>0</td>\n",
       "      <td>0</td>\n",
       "      <td>0</td>\n",
       "      <td>0</td>\n",
       "      <td>0</td>\n",
       "      <td>0</td>\n",
       "    </tr>\n",
       "  </tbody>\n",
       "</table>\n",
       "<p>254190 rows × 43 columns</p>\n",
       "</div>"
      ],
      "text/plain": [
       "        loan_amnt  int_rate  installment  annual_inc    dti  delinq_2yrs  \\\n",
       "0          5000.0     10.65       162.87     24000.0  27.65          0.0   \n",
       "1          2500.0     15.27        59.83     30000.0   1.00          0.0   \n",
       "2          2400.0     15.96        84.33     12252.0   8.72          0.0   \n",
       "3         10000.0     13.49       339.31     49200.0  20.00          0.0   \n",
       "5          5000.0      7.90       156.46     36000.0  11.20          0.0   \n",
       "...           ...       ...          ...         ...    ...          ...   \n",
       "887351     4200.0     15.99       147.64     48000.0  36.93          0.0   \n",
       "887364    10775.0      6.03       327.95     54000.0  13.22          1.0   \n",
       "887366     6225.0     16.49       220.37     27000.0  18.58          0.0   \n",
       "887369     4000.0      8.67       126.59     50000.0  12.63          0.0   \n",
       "887371    10850.0     19.24       399.04     32000.0  29.44          0.0   \n",
       "\n",
       "        loan_status   36 months   60 months  1 year  ...  home_improvement  \\\n",
       "0                 1           1           0       0  ...                 0   \n",
       "1                 0           0           1       0  ...                 0   \n",
       "2                 1           1           0       0  ...                 0   \n",
       "3                 1           1           0       0  ...                 0   \n",
       "5                 1           1           0       0  ...                 0   \n",
       "...             ...         ...         ...     ...  ...               ...   \n",
       "887351            0           1           0       0  ...                 0   \n",
       "887364            1           1           0       0  ...                 0   \n",
       "887366            1           1           0       0  ...                 0   \n",
       "887369            1           1           0       0  ...                 0   \n",
       "887371            0           1           0       0  ...                 0   \n",
       "\n",
       "        house  major_purchase  medical  moving  other  renewable_energy  \\\n",
       "0           0               0        0       0      0                 0   \n",
       "1           0               0        0       0      0                 0   \n",
       "2           0               0        0       0      0                 0   \n",
       "3           0               0        0       0      1                 0   \n",
       "5           0               0        0       0      0                 0   \n",
       "...       ...             ...      ...     ...    ...               ...   \n",
       "887351      0               0        1       0      0                 0   \n",
       "887364      0               0        0       0      0                 0   \n",
       "887366      0               0        0       0      0                 0   \n",
       "887369      0               0        0       0      0                 0   \n",
       "887371      0               0        0       0      0                 0   \n",
       "\n",
       "        small_business  vacation  wedding  \n",
       "0                    0         0        0  \n",
       "1                    0         0        0  \n",
       "2                    1         0        0  \n",
       "3                    0         0        0  \n",
       "5                    0         0        1  \n",
       "...                ...       ...      ...  \n",
       "887351               0         0        0  \n",
       "887364               0         0        0  \n",
       "887366               0         0        0  \n",
       "887369               0         0        0  \n",
       "887371               0         0        0  \n",
       "\n",
       "[254190 rows x 43 columns]"
      ]
     },
     "execution_count": 27,
     "metadata": {},
     "output_type": "execute_result"
    }
   ],
   "source": [
    "#Drop corresponding categorical columns and first dummy variable columns.\n",
    "df_concat.drop(['term', 'emp_length','home_ownership','verification_status','purpose'],axis = True)\n"
   ]
  },
  {
   "cell_type": "code",
   "execution_count": 28,
   "metadata": {
    "scrolled": true
   },
   "outputs": [
    {
     "name": "stdout",
     "output_type": "stream",
     "text": [
      "<class 'pandas.core.frame.DataFrame'>\n",
      "Int64Index: 254190 entries, 0 to 887371\n",
      "Data columns (total 48 columns):\n",
      " #   Column               Non-Null Count   Dtype  \n",
      "---  ------               --------------   -----  \n",
      " 0   loan_amnt            254190 non-null  float64\n",
      " 1   term                 254190 non-null  object \n",
      " 2   int_rate             254190 non-null  float64\n",
      " 3   installment          254190 non-null  float64\n",
      " 4   emp_length           244222 non-null  object \n",
      " 5   home_ownership       254190 non-null  object \n",
      " 6   annual_inc           254190 non-null  float64\n",
      " 7   verification_status  254190 non-null  object \n",
      " 8   purpose              254190 non-null  object \n",
      " 9   dti                  254190 non-null  float64\n",
      " 10  delinq_2yrs          254190 non-null  float64\n",
      " 11  loan_status          254190 non-null  int32  \n",
      " 12   36 months           254190 non-null  uint8  \n",
      " 13   60 months           254190 non-null  uint8  \n",
      " 14  1 year               254190 non-null  uint8  \n",
      " 15  10+ years            254190 non-null  uint8  \n",
      " 16  2 years              254190 non-null  uint8  \n",
      " 17  3 years              254190 non-null  uint8  \n",
      " 18  4 years              254190 non-null  uint8  \n",
      " 19  5 years              254190 non-null  uint8  \n",
      " 20  6 years              254190 non-null  uint8  \n",
      " 21  7 years              254190 non-null  uint8  \n",
      " 22  8 years              254190 non-null  uint8  \n",
      " 23  9 years              254190 non-null  uint8  \n",
      " 24  < 1 year             254190 non-null  uint8  \n",
      " 25  ANY                  254190 non-null  uint8  \n",
      " 26  MORTGAGE             254190 non-null  uint8  \n",
      " 27  NONE                 254190 non-null  uint8  \n",
      " 28  OTHER                254190 non-null  uint8  \n",
      " 29  OWN                  254190 non-null  uint8  \n",
      " 30  RENT                 254190 non-null  uint8  \n",
      " 31  Not Verified         254190 non-null  uint8  \n",
      " 32  Source Verified      254190 non-null  uint8  \n",
      " 33  Verified             254190 non-null  uint8  \n",
      " 34  car                  254190 non-null  uint8  \n",
      " 35  credit_card          254190 non-null  uint8  \n",
      " 36  debt_consolidation   254190 non-null  uint8  \n",
      " 37  educational          254190 non-null  uint8  \n",
      " 38  home_improvement     254190 non-null  uint8  \n",
      " 39  house                254190 non-null  uint8  \n",
      " 40  major_purchase       254190 non-null  uint8  \n",
      " 41  medical              254190 non-null  uint8  \n",
      " 42  moving               254190 non-null  uint8  \n",
      " 43  other                254190 non-null  uint8  \n",
      " 44  renewable_energy     254190 non-null  uint8  \n",
      " 45  small_business       254190 non-null  uint8  \n",
      " 46  vacation             254190 non-null  uint8  \n",
      " 47  wedding              254190 non-null  uint8  \n",
      "dtypes: float64(6), int32(1), object(5), uint8(36)\n",
      "memory usage: 33.0+ MB\n"
     ]
    }
   ],
   "source": [
    "# We check to see if the property of the data type changed\n",
    "df_concat.info()"
   ]
  },
  {
   "cell_type": "markdown",
   "metadata": {},
   "source": [
    "# USING UNIVARIATE FEATURE SELECTION MODEL"
   ]
  },
  {
   "cell_type": "code",
   "execution_count": 30,
   "metadata": {},
   "outputs": [],
   "source": [
    "from sklearn.feature_selection import SelectKBest\n",
    "from sklearn.feature_selection import chi2"
   ]
  },
  {
   "cell_type": "code",
   "execution_count": 33,
   "metadata": {},
   "outputs": [],
   "source": [
    "X = df_concat.iloc[:,0:47].drop(['loan_status','term','emp_length','home_ownership','verification_status','purpose'],axis =1)\n",
    "y = df_concat.iloc[:,11]"
   ]
  },
  {
   "cell_type": "code",
   "execution_count": 34,
   "metadata": {},
   "outputs": [
    {
     "data": {
      "text/plain": [
       "((254190, 41), (254190,))"
      ]
     },
     "execution_count": 34,
     "metadata": {},
     "output_type": "execute_result"
    }
   ],
   "source": [
    "X.shape,y.shape"
   ]
  },
  {
   "cell_type": "code",
   "execution_count": 36,
   "metadata": {
    "scrolled": true
   },
   "outputs": [
    {
     "name": "stdout",
     "output_type": "stream",
     "text": [
      "         Specs         Score\n",
      "3   annual_inc  4.272854e+07\n",
      "0    loan_amnt  4.210423e+06\n",
      "2  installment  7.066902e+04\n",
      "1     int_rate  2.076748e+04\n",
      "4          dti  1.218338e+04\n"
     ]
    }
   ],
   "source": [
    "# Using the SelectKBest for feature selection the top 10 features are selected\n",
    "bestfeatures = SelectKBest(score_func=chi2, k=10)\n",
    "fit = bestfeatures.fit(X,y)\n",
    "dfscores = pd.DataFrame(fit.scores_)\n",
    "dfcolumns = pd.DataFrame(X.columns)\n",
    "#concat two dataframes for better visualization \n",
    "featureScores = pd.concat([dfcolumns,dfscores],axis=1)\n",
    "featureScores.columns = ['Specs','Score']  #naming the dataframe columns\n",
    "print(featureScores.nlargest(5,'Score'))  #print 10 best features"
   ]
  },
  {
   "cell_type": "markdown",
   "metadata": {},
   "source": [
    "# Feature Importance (2nd Feature selection method)"
   ]
  },
  {
   "cell_type": "code",
   "execution_count": 40,
   "metadata": {
    "scrolled": false
   },
   "outputs": [
    {
     "name": "stdout",
     "output_type": "stream",
     "text": [
      "[1.36736356e-01 1.80176055e-01 1.58625383e-01 1.65344506e-01\n",
      " 1.73428990e-01 4.07762757e-02 8.81782506e-03 1.02059281e-02\n",
      " 5.99912508e-03 7.55476562e-03 6.46461307e-03 6.84409163e-03\n",
      " 6.09591199e-03 6.77733671e-03 6.23431593e-03 6.01209527e-03\n",
      " 5.58054131e-03 4.95711515e-03 6.50349386e-03 6.30418942e-07\n",
      " 3.55614029e-03 6.80015322e-05 2.00521523e-04 2.53965871e-03\n",
      " 3.52367371e-03 3.93283760e-03 4.53274538e-03 4.54404585e-03\n",
      " 1.73415018e-03 4.82361129e-03 6.98827409e-03 4.01677361e-04\n",
      " 3.56033539e-03 1.68840353e-03 2.66579893e-03 2.12041569e-03\n",
      " 1.53634282e-03 3.99189978e-03 5.26874424e-04 2.51261746e-03\n",
      " 1.41662030e-03]\n"
     ]
    },
    {
     "data": {
      "image/png": "[encoded data removed]",
      "text/plain": [
       "<Figure size 576x432 with 1 Axes>"
      ]
     },
     "metadata": {
      "needs_background": "light"
     },
     "output_type": "display_data"
    }
   ],
   "source": [
    "from sklearn.ensemble import ExtraTreesClassifier\n",
    "import matplotlib.pyplot as plt\n",
    "model = ExtraTreesClassifier()\n",
    "model.fit(X,y)\n",
    "print(model.feature_importances_) #use inbuilt class feature_importances of tree based classifiers\n",
    "#plot graph of feature importances for better visualization\n",
    "feat_importances = pd.Series(model.feature_importances_, index=X.columns)\n",
    "feat_importances.nlargest(5).plot(kind='barh')\n",
    "plt.show()"
   ]
  },
  {
   "cell_type": "code",
   "execution_count": 39,
   "metadata": {},
   "outputs": [],
   "source": [
    "plt.rcParams['figure.figsize']= (8,6)"
   ]
  },
  {
   "cell_type": "code",
   "execution_count": 138,
   "metadata": {},
   "outputs": [],
   "source": [
    "import seaborn as sns"
   ]
  },
  {
   "cell_type": "code",
   "execution_count": 142,
   "metadata": {},
   "outputs": [],
   "source": [
    "#get correlations of each features in dataset\n",
    "corrmat = df_concat.corr()\n"
   ]
  },
  {
   "cell_type": "code",
   "execution_count": null,
   "metadata": {},
   "outputs": [],
   "source": [
    "# Features with the highest scores were"
   ]
  },
  {
   "cell_type": "markdown",
   "metadata": {},
   "source": [
    "# Running a Logistic Regression Model"
   ]
  },
  {
   "cell_type": "code",
   "execution_count": 27,
   "metadata": {},
   "outputs": [],
   "source": [
    "#Assigning dependent and independent variables to X and y\n",
    "X = df_concat.drop(\"loan_status\",1)\n",
    "y = df_concat.loan_status"
   ]
  },
  {
   "cell_type": "code",
   "execution_count": 143,
   "metadata": {},
   "outputs": [
    {
     "data": {
      "text/plain": [
       "LogisticRegression(C=1.0, class_weight=None, dual=False, fit_intercept=True,\n",
       "                   intercept_scaling=1, l1_ratio=None, max_iter=100,\n",
       "                   multi_class='auto', n_jobs=None, penalty='l2',\n",
       "                   random_state=None, solver='lbfgs', tol=0.0001, verbose=0,\n",
       "                   warm_start=False)"
      ]
     },
     "execution_count": 143,
     "metadata": {},
     "output_type": "execute_result"
    }
   ],
   "source": [
    "# Splitting the dataset into 70% training and 30% test set\n",
    "X_train, X_test, y_train, y_test = train_test_split(X, y, test_size=0.3, random_state=0)\n",
    "logreg = LogisticRegression()\n",
    "logreg.fit(X_train, y_train)"
   ]
  },
  {
   "cell_type": "code",
   "execution_count": 144,
   "metadata": {},
   "outputs": [
    {
     "name": "stdout",
     "output_type": "stream",
     "text": [
      "Accuracy of logistic regression classifier on test set: 0.82\n"
     ]
    }
   ],
   "source": [
    "y_pred = logreg.predict(X_test)\n",
    "print('Accuracy of logistic regression classifier on test set: {:.2f}'.format(logreg.score(X_test, y_test)))"
   ]
  },
  {
   "cell_type": "markdown",
   "metadata": {},
   "source": [
    "# Confusion Matrix"
   ]
  },
  {
   "cell_type": "code",
   "execution_count": 145,
   "metadata": {},
   "outputs": [
    {
     "name": "stdout",
     "output_type": "stream",
     "text": [
      "[[    7 13898]\n",
      " [   22 62330]]\n"
     ]
    }
   ],
   "source": [
    "from sklearn.metrics import confusion_matrix\n",
    "confusion_matrix = confusion_matrix(y_test, y_pred)\n",
    "print(confusion_matrix)"
   ]
  },
  {
   "cell_type": "code",
   "execution_count": 146,
   "metadata": {},
   "outputs": [
    {
     "name": "stdout",
     "output_type": "stream",
     "text": [
      "              precision    recall  f1-score   support\n",
      "\n",
      "           0       0.24      0.00      0.00     13905\n",
      "           1       0.82      1.00      0.90     62352\n",
      "\n",
      "    accuracy                           0.82     76257\n",
      "   macro avg       0.53      0.50      0.45     76257\n",
      "weighted avg       0.71      0.82      0.74     76257\n",
      "\n"
     ]
    }
   ],
   "source": [
    "from sklearn.metrics import classification_report\n",
    "print(classification_report(y_test, y_pred))"
   ]
  },
  {
   "cell_type": "code",
   "execution_count": null,
   "metadata": {},
   "outputs": [],
   "source": []
  }
 ],
 "metadata": {
  "kernelspec": {
   "display_name": "Python 3",
   "language": "python",
   "name": "python3"
  },
  "language_info": {
   "codemirror_mode": {
    "name": "ipython",
    "version": 3
   },
   "file_extension": ".py",
   "mimetype": "text/x-python",
   "name": "python",
   "nbconvert_exporter": "python",
   "pygments_lexer": "ipython3",
   "version": "3.7.6"
  }
 },
 "nbformat": 4,
 "nbformat_minor": 4
}
